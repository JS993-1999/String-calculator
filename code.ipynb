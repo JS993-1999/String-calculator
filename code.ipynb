{
 "cells": [
  {
   "cell_type": "code",
   "execution_count": 7,
   "metadata": {},
   "outputs": [],
   "source": [
    "class Calculator:\n",
    "    def __init__(self, stringnumber):\n",
    "        self.stringnumber = stringnumber\n",
    "        \n",
    "    def stringProcessing(self):\n",
    "        \n",
    "        b = self.stringnumber.split()\n",
    "        s=''.join(b)    \n",
    "        s= list(s)\n",
    "        s= list(s)\n",
    "        \n",
    "\n",
    "        num = []\n",
    "        finalstr = []\n",
    "        for i in s:\n",
    "            if i.isdigit() == True:\n",
    "                num.append(i)\n",
    "            else:\n",
    "                number = ''.join(num) \n",
    "                finalstr.append(number)\n",
    "                num.clear()\n",
    "                finalstr.append(i)\n",
    "                \n",
    "        finalstr.insert(0, '(')\n",
    "        finalstr.insert(-1, ')')\n",
    "        \n",
    "        while('' in finalstr) :\n",
    "            finalstr.remove('')\n",
    "        \n",
    "        return finalstr\n",
    "    \n",
    "    def operator(self,a,b,c):\n",
    "        if b == '+':\n",
    "            r = a + c\n",
    "        elif b == '-' or b=='_':\n",
    "            r = a - c\n",
    "        elif b == '*':\n",
    "            r = a * c\n",
    "        elif b == '/':\n",
    "            r = a / c\n",
    "        return r\n",
    "    \n",
    "    def calculation(self):\n",
    "        num = []\n",
    "        startindex = 0\n",
    "        finalstr = self.stringProcessing()\n",
    "        for i in range(len(finalstr)):\n",
    "            if finalstr[i].isdigit() == True:\n",
    "                num.append(int(finalstr[i]))\n",
    "            elif finalstr[i] in ('*', '/', 'x', '+', '-', '_'):\n",
    "                num.append(finalstr[i]) \n",
    "            elif finalstr[i]=='(':\n",
    "                num.append(finalstr[i]) \n",
    "                startindex = i\n",
    "            elif finalstr[i]==')':\n",
    "                num.pop(startindex)\n",
    "                substring = num[startindex:]\n",
    "                num = num[:startindex]\n",
    "                if len(substring)==1:\n",
    "                    num.append(substring[0])\n",
    "                else:\n",
    "                    while len(substring) > 1:\n",
    "                        if substring[0]=='-':\n",
    "                            substring.pop(0)\n",
    "                            substring[0]= 0-substring[0]\n",
    "                            r=substring[0]\n",
    "                        elif len(substring)>=3:\n",
    "                            a,b,c=substring.pop(0), substring.pop(0), substring.pop(0)\n",
    "                            r = self.operator(a,b,c)\n",
    "                            substring.insert(0,r)\n",
    "\n",
    "                    num.append(r)\n",
    "                for tr in range(len(num)):\n",
    "                    if num[tr]=='(':\n",
    "                        startindex = tr\n",
    "        print(self.stringnumber,'=',num[0])"
   ]
  },
  {
   "cell_type": "code",
   "execution_count": 8,
   "metadata": {},
   "outputs": [
    {
     "name": "stdout",
     "output_type": "stream",
     "text": [
      "200 + ((-100500 + 10000) + 2000) = -88300\n",
      "200 + ((10000) + 2000) = 12200\n",
      "200 + ((-100500) + 2000) = -98300\n",
      "200 + ((100500) + 2000) = 102700\n"
     ]
    }
   ],
   "source": [
    "calculations = ['200 + ((-100500 + 10000) + 2000)', '200 + ((10000) + 2000)','200 + ((-100500) + 2000)','200 + ((100500) + 2000)']\n",
    "for i in calculations:\n",
    "    cal = Calculator(i)\n",
    "    cal.calculation()"
   ]
  },
  {
   "cell_type": "code",
   "execution_count": null,
   "metadata": {},
   "outputs": [],
   "source": []
  }
 ],
 "metadata": {
  "kernelspec": {
   "display_name": "Python 3",
   "language": "python",
   "name": "python3"
  },
  "language_info": {
   "codemirror_mode": {
    "name": "ipython",
    "version": 3
   },
   "file_extension": ".py",
   "mimetype": "text/x-python",
   "name": "python",
   "nbconvert_exporter": "python",
   "pygments_lexer": "ipython3",
   "version": "3.7.6"
  }
 },
 "nbformat": 4,
 "nbformat_minor": 4
}
