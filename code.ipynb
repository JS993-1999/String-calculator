{
 "cells": [
  {
   "cell_type": "code",
   "execution_count": 69,
   "metadata": {},
   "outputs": [],
   "source": [
    "class Calculator:\n",
    "    def __init__(self, stringnumber):\n",
    "        self.stringnumber = stringnumber\n",
    "        \n",
    "    def stringProcessing(self):\n",
    "        \n",
    "        b = self.stringnumber.split()\n",
    "        s=''.join(b)    \n",
    "        s= list(s)\n",
    "        s= list(s)\n",
    "        \n",
    "\n",
    "        num = []\n",
    "        finalstr = []\n",
    "        for i in s:\n",
    "            if i.isdigit() == True:\n",
    "                num.append(i)\n",
    "            else:\n",
    "                number = ''.join(num) \n",
    "                finalstr.append(number)\n",
    "                num.clear()\n",
    "                finalstr.append(i)\n",
    "                \n",
    "        finalstr.insert(0, '(')\n",
    "        finalstr.insert(-1, ')')\n",
    "        \n",
    "        while('' in finalstr) :\n",
    "            finalstr.remove('')\n",
    "        \n",
    "        return finalstr\n",
    "    \n",
    "    def operator(self,a,b,c):\n",
    "        if b == '+':\n",
    "            r = a + c\n",
    "        elif b == '-' or b=='_':\n",
    "            r = a - c\n",
    "        elif b == '*':\n",
    "            r = a * c\n",
    "        elif b == '/':\n",
    "            r = a / c\n",
    "        return r\n",
    "    \n",
    "    def checkappend(self, num, number):\n",
    "        if number < 100000000:\n",
    "            num.append(number)\n",
    "        else:\n",
    "            print('The number is too big!')\n",
    "            sys.exit()\n",
    "        return num\n",
    "    \n",
    "    def calculation(self):\n",
    "        num = []\n",
    "        startindex = []\n",
    "        finalstr = self.stringProcessing()\n",
    "        for i in range(len(finalstr)):\n",
    "            if finalstr[i].isdigit() == True:\n",
    "                num= self.checkappend(num, int(finalstr[i]))\n",
    "                #num.append(int(finalstr[i]))\n",
    "            elif finalstr[i] in ('*', '/', 'x', '+', '-', '_'):\n",
    "                num.append(finalstr[i]) \n",
    "            elif finalstr[i]=='(':\n",
    "                num.append(finalstr[i]) \n",
    "                startindex.append(i)\n",
    "            elif finalstr[i]==')':\n",
    "                index = startindex.pop()\n",
    "                num.pop(index)\n",
    "                substring = num[index:]\n",
    "                num = num[:index]\n",
    "                if len(substring)==1:\n",
    "                    num.append(substring[0])\n",
    "                else:\n",
    "                    while len(substring) > 1:\n",
    "                        if substring[0]=='-':\n",
    "                            substring.pop(0)\n",
    "                            substring[0]= 0-substring[0]\n",
    "                            r=substring[0]\n",
    "                        elif len(substring)>=3:\n",
    "                            a,b,c=substring.pop(0), substring.pop(0), substring.pop(0)\n",
    "                            r = self.operator(a,b,c)\n",
    "                            substring.insert(0,r)\n",
    "                    num = self.checkappend(num, r)\n",
    "                \n",
    "\n",
    "        print(self.stringnumber,'=',num[0])"
   ]
  },
  {
   "cell_type": "code",
   "execution_count": 72,
   "metadata": {},
   "outputs": [
    {
     "name": "stdout",
     "output_type": "stream",
     "text": [
      "200 + ((-10050000 + 10000000) + 2000) = -47800\n",
      "The number is too big!\n"
     ]
    },
    {
     "ename": "SystemExit",
     "evalue": "",
     "output_type": "error",
     "traceback": [
      "An exception has occurred, use %tb to see the full traceback.\n",
      "\u001b[1;31mSystemExit\u001b[0m\n"
     ]
    }
   ],
   "source": [
    "calculations = ['200 + ((-10050000 + 10000000) + 2000)', '200 + ((1000000000) + 2000)','200 + ((-100500) + 2000)','200 + ((100500) + 2000)']\n",
    "for i in calculations:\n",
    "    cal = Calculator(i)\n",
    "    cal.calculation()"
   ]
  },
  {
   "cell_type": "code",
   "execution_count": null,
   "metadata": {},
   "outputs": [],
   "source": []
  }
 ],
 "metadata": {
  "kernelspec": {
   "display_name": "Python 3",
   "language": "python",
   "name": "python3"
  },
  "language_info": {
   "codemirror_mode": {
    "name": "ipython",
    "version": 3
   },
   "file_extension": ".py",
   "mimetype": "text/x-python",
   "name": "python",
   "nbconvert_exporter": "python",
   "pygments_lexer": "ipython3",
   "version": "3.7.6"
  }
 },
 "nbformat": 4,
 "nbformat_minor": 4
}
